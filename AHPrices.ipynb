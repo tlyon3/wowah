{
 "cells": [
  {
   "cell_type": "code",
   "execution_count": 8,
   "metadata": {},
   "outputs": [],
   "source": [
    "CLIENT_ID = '94feb4d068d34ab19bbb490bdb470cb4'\n",
    "SECRET = \"rvi1q5YPAit7JZd81veKj71fFpC2gsET\"\n",
    "TOKEN = \"USIICRrJ0RO43HcCg6Js8agV1K8eBHsimn\"\n",
    "TOKEN_REFRESH_COMMAND = f\"curl -u {CLIENT_ID}:{SECRET} -d grant_type=client_credentials https://us.battle.net/oauth/token\"\n",
    "ZULJIN = 61\n",
    "STORMRAGE = 60"
   ]
  },
  {
   "cell_type": "code",
   "execution_count": 9,
   "metadata": {},
   "outputs": [
    {
     "data": {
      "text/plain": [
       "'curl -u 94feb4d068d34ab19bbb490bdb470cb4:rvi1q5YPAit7JZd81veKj71fFpC2gsET -d grant_type=client_credentials https://us.battle.net/oauth/token'"
      ]
     },
     "execution_count": 9,
     "metadata": {},
     "output_type": "execute_result"
    }
   ],
   "source": [
    "TOKEN_REFRESH_COMMAND"
   ]
  },
  {
   "cell_type": "code",
   "execution_count": 52,
   "metadata": {},
   "outputs": [],
   "source": [
    "import requests\n",
    "import pandas as pd\n",
    "import numpy as np\n",
    "import copy "
   ]
  },
  {
   "cell_type": "code",
   "execution_count": 53,
   "metadata": {},
   "outputs": [],
   "source": [
    "base_url = \"https://us.api.blizzard.com\"\n",
    "ah_path = \"/data/wow/connected-realm/{connectedRealmId}/auctions\"\n",
    "query_params = {\n",
    "    'namespace': \"dynamic-us\",\n",
    "    'locale': \"en_US\",\n",
    "    'access_token': TOKEN\n",
    "}"
   ]
  },
  {
   "cell_type": "code",
   "execution_count": 67,
   "metadata": {},
   "outputs": [],
   "source": [
    "def get_auctions_for_realm(realm_id):\n",
    "    full_url = base_url + ah_path.format(connectedRealmId = realm_id)\n",
    "    resp = requests.get(full_url, params=query_params)\n",
    "    auction_list = resp.json()['auctions']\n",
    "    auctions = []\n",
    "    for auction in auction_list:\n",
    "        auctions.append({\n",
    "            'auction_id': auction['id'],\n",
    "            'item_id': auction['item']['id'],\n",
    "            'bid': auction['bid'] if 'bid' in auction else np.nan,\n",
    "            'buyout': auction['buyout'] if 'buyout' in auction else np.nan,\n",
    "            'quantity': auction['quantity'],\n",
    "            'time_left': auction['time_left']\n",
    "        })\n",
    "\n",
    "    return pd.DataFrame.from_records(auctions)"
   ]
  },
  {
   "cell_type": "code",
   "execution_count": 81,
   "metadata": {},
   "outputs": [],
   "source": [
    "def get_item_info(item_id):\n",
    "    qp = copy.copy(query_params)\n",
    "    qp['namespace'] = 'static-us'\n",
    "    full_url = base_url + f\"/data/wow/item/{item_id}\"\n",
    "    resp = requests.get(full_url, params=qp)\n",
    "    raw = resp.json()\n",
    "    item = {\n",
    "        \"id\": item_id,\n",
    "        'sell_price': raw['sell_price'],\n",
    "        'name': raw['name'],\n",
    "        'item_class': raw['item_class']['name'],\n",
    "        'item_subclass': raw['item_subclass']['name'],\n",
    "        'purchase_price': raw['purchase_price'],\n",
    "        'ilvl': raw['level'],\n",
    "        'quality': raw['quality']['name']\n",
    "    }\n",
    "    return item"
   ]
  },
  {
   "cell_type": "code",
   "execution_count": 88,
   "metadata": {},
   "outputs": [],
   "source": [
    "def get_list_of_items(item_ids):\n",
    "    items = []\n",
    "    for item_id in item_ids:\n",
    "        items.append(get_item_info(item_id))\n",
    "    return pd.DataFrame.from_records(items)"
   ]
  },
  {
   "cell_type": "code",
   "execution_count": 83,
   "metadata": {},
   "outputs": [],
   "source": [
    "auctions = get_auctions_for_realm(ZULJIN)"
   ]
  },
  {
   "cell_type": "code",
   "execution_count": 84,
   "metadata": {},
   "outputs": [
    {
     "data": {
      "text/html": [
       "<div>\n",
       "<style scoped>\n",
       "    .dataframe tbody tr th:only-of-type {\n",
       "        vertical-align: middle;\n",
       "    }\n",
       "\n",
       "    .dataframe tbody tr th {\n",
       "        vertical-align: top;\n",
       "    }\n",
       "\n",
       "    .dataframe thead th {\n",
       "        text-align: right;\n",
       "    }\n",
       "</style>\n",
       "<table border=\"1\" class=\"dataframe\">\n",
       "  <thead>\n",
       "    <tr style=\"text-align: right;\">\n",
       "      <th></th>\n",
       "      <th>auction_id</th>\n",
       "      <th>item_id</th>\n",
       "      <th>bid</th>\n",
       "      <th>buyout</th>\n",
       "      <th>quantity</th>\n",
       "      <th>time_left</th>\n",
       "    </tr>\n",
       "  </thead>\n",
       "  <tbody>\n",
       "    <tr>\n",
       "      <th>0</th>\n",
       "      <td>422445037</td>\n",
       "      <td>168583</td>\n",
       "      <td>NaN</td>\n",
       "      <td>NaN</td>\n",
       "      <td>17</td>\n",
       "      <td>SHORT</td>\n",
       "    </tr>\n",
       "    <tr>\n",
       "      <th>1</th>\n",
       "      <td>422445054</td>\n",
       "      <td>173204</td>\n",
       "      <td>NaN</td>\n",
       "      <td>NaN</td>\n",
       "      <td>3</td>\n",
       "      <td>SHORT</td>\n",
       "    </tr>\n",
       "    <tr>\n",
       "      <th>2</th>\n",
       "      <td>422445107</td>\n",
       "      <td>164441</td>\n",
       "      <td>NaN</td>\n",
       "      <td>470000700.0</td>\n",
       "      <td>1</td>\n",
       "      <td>SHORT</td>\n",
       "    </tr>\n",
       "    <tr>\n",
       "      <th>3</th>\n",
       "      <td>422445327</td>\n",
       "      <td>182990</td>\n",
       "      <td>NaN</td>\n",
       "      <td>300000000.0</td>\n",
       "      <td>1</td>\n",
       "      <td>SHORT</td>\n",
       "    </tr>\n",
       "    <tr>\n",
       "      <th>4</th>\n",
       "      <td>422445378</td>\n",
       "      <td>184801</td>\n",
       "      <td>NaN</td>\n",
       "      <td>900000000.0</td>\n",
       "      <td>1</td>\n",
       "      <td>SHORT</td>\n",
       "    </tr>\n",
       "  </tbody>\n",
       "</table>\n",
       "</div>"
      ],
      "text/plain": [
       "   auction_id  item_id  bid       buyout  quantity time_left\n",
       "0   422445037   168583  NaN          NaN        17     SHORT\n",
       "1   422445054   173204  NaN          NaN         3     SHORT\n",
       "2   422445107   164441  NaN  470000700.0         1     SHORT\n",
       "3   422445327   182990  NaN  300000000.0         1     SHORT\n",
       "4   422445378   184801  NaN  900000000.0         1     SHORT"
      ]
     },
     "execution_count": 84,
     "metadata": {},
     "output_type": "execute_result"
    }
   ],
   "source": [
    "auctions.head()"
   ]
  },
  {
   "cell_type": "code",
   "execution_count": 89,
   "metadata": {},
   "outputs": [],
   "source": [
    "item = get_list_of_items([184801, 182990])"
   ]
  },
  {
   "cell_type": "code",
   "execution_count": 90,
   "metadata": {},
   "outputs": [
    {
     "data": {
      "text/html": [
       "<div>\n",
       "<style scoped>\n",
       "    .dataframe tbody tr th:only-of-type {\n",
       "        vertical-align: middle;\n",
       "    }\n",
       "\n",
       "    .dataframe tbody tr th {\n",
       "        vertical-align: top;\n",
       "    }\n",
       "\n",
       "    .dataframe thead th {\n",
       "        text-align: right;\n",
       "    }\n",
       "</style>\n",
       "<table border=\"1\" class=\"dataframe\">\n",
       "  <thead>\n",
       "    <tr style=\"text-align: right;\">\n",
       "      <th></th>\n",
       "      <th>id</th>\n",
       "      <th>sell_price</th>\n",
       "      <th>name</th>\n",
       "      <th>item_class</th>\n",
       "      <th>item_subclass</th>\n",
       "      <th>purchase_price</th>\n",
       "      <th>ilvl</th>\n",
       "      <th>quality</th>\n",
       "    </tr>\n",
       "  </thead>\n",
       "  <tbody>\n",
       "    <tr>\n",
       "      <th>0</th>\n",
       "      <td>184801</td>\n",
       "      <td>1198855</td>\n",
       "      <td>Locke's Essential Scepter</td>\n",
       "      <td>Weapon</td>\n",
       "      <td>Mace</td>\n",
       "      <td>5994279</td>\n",
       "      <td>190</td>\n",
       "      <td>Epic</td>\n",
       "    </tr>\n",
       "    <tr>\n",
       "      <th>1</th>\n",
       "      <td>182990</td>\n",
       "      <td>624918</td>\n",
       "      <td>Legionnaire's Bloodstained Sabatons</td>\n",
       "      <td>Armor</td>\n",
       "      <td>Mail</td>\n",
       "      <td>3124591</td>\n",
       "      <td>200</td>\n",
       "      <td>Epic</td>\n",
       "    </tr>\n",
       "  </tbody>\n",
       "</table>\n",
       "</div>"
      ],
      "text/plain": [
       "       id  sell_price                                 name item_class  \\\n",
       "0  184801     1198855            Locke's Essential Scepter     Weapon   \n",
       "1  182990      624918  Legionnaire's Bloodstained Sabatons      Armor   \n",
       "\n",
       "  item_subclass  purchase_price  ilvl quality  \n",
       "0          Mace         5994279   190    Epic  \n",
       "1          Mail         3124591   200    Epic  "
      ]
     },
     "execution_count": 90,
     "metadata": {},
     "output_type": "execute_result"
    }
   ],
   "source": [
    "item\n"
   ]
  },
  {
   "cell_type": "code",
   "execution_count": null,
   "metadata": {},
   "outputs": [],
   "source": []
  }
 ],
 "metadata": {
  "kernelspec": {
   "display_name": "Python 3",
   "language": "python",
   "name": "python3"
  },
  "language_info": {
   "codemirror_mode": {
    "name": "ipython",
    "version": 3
   },
   "file_extension": ".py",
   "mimetype": "text/x-python",
   "name": "python",
   "nbconvert_exporter": "python",
   "pygments_lexer": "ipython3",
   "version": "3.8.3"
  }
 },
 "nbformat": 4,
 "nbformat_minor": 4
}
