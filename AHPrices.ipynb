{
 "cells": [
  {
   "cell_type": "code",
   "execution_count": 4,
   "metadata": {},
   "outputs": [],
   "source": [
    "CLIENT_ID = '94feb4d068d34ab19bbb490bdb470cb4'\n",
    "SECRET = \"rvi1q5YPAit7JZd81veKj71fFpC2gsET\"\n",
    "TOKEN = \"US7hHefRZduUf2QCV3vCFaeVkpKcsZJZZX\"\n",
    "ZULJIN = 61\n",
    "STORMRAGE = 60"
   ]
  },
  {
   "cell_type": "code",
   "execution_count": 34,
   "metadata": {},
   "outputs": [],
   "source": [
    "import requests\n",
    "import pandas as pd\n",
    "import numpy as np"
   ]
  },
  {
   "cell_type": "code",
   "execution_count": 18,
   "metadata": {},
   "outputs": [],
   "source": [
    "base_url = \"https://us.api.blizzard.com\"\n",
    "ah_path = \"/data/wow/connected-realm/{connectedRealmId}/auctions\"\n",
    "query_params = {\n",
    "    'namespace': \"dynamic-us\",\n",
    "    'locale': \"en_US\",\n",
    "    'access_token': TOKEN\n",
    "}"
   ]
  },
  {
   "cell_type": "code",
   "execution_count": 46,
   "metadata": {},
   "outputs": [],
   "source": [
    "def get_auctions_for_realm(realm_id):\n",
    "    full_url = base_url + ah_path.format(connectedRealmId = realm_id)\n",
    "    resp = requests.get(full_url, params=query_params)\n",
    "    auction_list = resp.json()['auctions']\n",
    "    auctions = []\n",
    "    for auction in auction_list:\n",
    "        auctions.append({\n",
    "            'auction_id': auction['id'],\n",
    "            'item_id': auction['item']['id'],\n",
    "            'bid': auction['bid'] if 'bid' in auction else np.nan,\n",
    "            'buyout': auction['buyout'] if 'buyout' in auction else np.nan,\n",
    "            'quantity': auction['quantity'],\n",
    "            'time_left': auction['time_left']\n",
    "        })\n",
    "\n",
    "    return pd.DataFrame.from_records(auctions)"
   ]
  },
  {
   "cell_type": "code",
   "execution_count": null,
   "metadata": {},
   "outputs": [],
   "source": []
  }
 ],
 "metadata": {
  "kernelspec": {
   "display_name": "Python 3",
   "language": "python",
   "name": "python3"
  },
  "language_info": {
   "codemirror_mode": {
    "name": "ipython",
    "version": 3
   },
   "file_extension": ".py",
   "mimetype": "text/x-python",
   "name": "python",
   "nbconvert_exporter": "python",
   "pygments_lexer": "ipython3",
   "version": "3.8.3"
  }
 },
 "nbformat": 4,
 "nbformat_minor": 4
}
